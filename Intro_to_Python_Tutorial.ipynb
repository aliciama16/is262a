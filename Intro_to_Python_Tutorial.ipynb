{
  "nbformat": 4,
  "nbformat_minor": 0,
  "metadata": {
    "colab": {
      "provenance": [],
      "include_colab_link": true
    },
    "kernelspec": {
      "name": "python3",
      "display_name": "Python 3"
    },
    "language_info": {
      "name": "python"
    }
  },
  "cells": [
    {
      "cell_type": "markdown",
      "metadata": {
        "id": "view-in-github",
        "colab_type": "text"
      },
      "source": [
        "<a href=\"https://colab.research.google.com/github/aliciama16/is262a/blob/main/Intro_to_Python_Tutorial.ipynb\" target=\"_parent\"><img src=\"https://colab.research.google.com/assets/colab-badge.svg\" alt=\"Open In Colab\"/></a>"
      ]
    },
    {
      "cell_type": "markdown",
      "source": [
        "# Getting Started With Python\n",
        "\n",
        "\n",
        "*This tutorial is adapted from a [tutorial](https://github.com/kwaldenphd/Python) by [Katherine Walden](https://github.com/kwaldenphd).*\n",
        "\n",
        "<a href=\"http://creativecommons.org/licenses/by-nc/4.0/\" rel=\"license\"><img style=\"border-width: 0;\" src=\"https://i.creativecommons.org/l/by-nc/4.0/88x31.png\" alt=\"Creative Commons License\" /></a>\n",
        "This tutorial is licensed under a <a href=\"http://creativecommons.org/licenses/by-nc/4.0/\" rel=\"license\">Creative Commons Attribution-NonCommercial 4.0 International License</a>.\n",
        "\n",
        "> To use and edit this notebook yourself, click on **File** and then **Save a Copy in Drive**.\n"
      ],
      "metadata": {
        "id": "ayXX0r_B0FDw"
      }
    },
    {
      "cell_type": "markdown",
      "source": [
        "## Lab Overview\n",
        "\n",
        "This lab provides an overview of foundational programming syntax in Python, specifically data types/structures, common methods/functions, loops, and operators. It's a very abridged overview, since I'm ignoring various nuances, special cases, and some important concepts. I don't expect you to memorize this information; you should just just be aware of its existence.\n",
        "\n",
        "If you'd like, you can walk through it with me by playing [this video](https://share.descript.com/view/5B2nVs1rrAV), where I do my best to explain each topic.\n",
        "\n",
        "Walk through the cells, one by one, pressing \"play\" to run the code and altering it (if you'd like) before pressing \"play\" again. If you're still confused about how to interact with a Colab notebook, [this video should help](https://share.descript.com/view/5Pexj4PJ1vT).\n",
        "\n",
        "The most important information for you to glean is the nature of **variables**, **functions**, **datatypes**, and **operators**.\n",
        "\n",
        "You may not grasp the nuances of if/else/elif statements or loops, but that's OK; I just want you to be aware that they exist, and come back to the definitions later if you want.\n",
        "\n",
        "When everybody's done, I'll have some questions for you!"
      ],
      "metadata": {
        "id": "2slhSdG10GCT"
      }
    },
    {
      "cell_type": "markdown",
      "source": [
        "## Acknowledgements\n",
        "\n",
        "[Click here](https://github.com/kwaldenphd/Python/blob/master/acknowledgements.md) for a full list of acknowledgements for this lab."
      ],
      "metadata": {
        "id": "3W9dBqXw0HEC"
      }
    },
    {
      "cell_type": "markdown",
      "source": [
        "# `print` statements"
      ],
      "metadata": {
        "id": "8qJ20LO60SL9"
      }
    },
    {
      "cell_type": "code",
      "source": [
        "print(\"Hello!\")"
      ],
      "metadata": {
        "id": "VZbUsD8M0TQo"
      },
      "execution_count": null,
      "outputs": []
    },
    {
      "cell_type": "markdown",
      "source": [
        "Run the code cell (press the \"play\" button) to see the `print()` statement output.\n",
        "\n",
        "The `print()` function will output the value passed to it, in this case a string of characters (letters).\n",
        "\n",
        "You can modify the characters or symbols in the quotation marks to print other values.\n",
        "\n",
        "# Variables\n",
        "\n",
        "Next, we're going to assign our first variable.\n",
        "\n",
        "In Python, a variable is a placeholder for a piece of information.\n",
        "\n",
        "In the code below, the statements preceded by a pound sign (#) are **comments**. That means they don't actually do anything in Python; they're just there for your information."
      ],
      "metadata": {
        "id": "k0rTPYYt0UlT"
      }
    },
    {
      "cell_type": "code",
      "source": [
        "# assign \"hello world\" message to hello variable\n",
        "hello = \"hello world\"\n",
        "\n",
        "# print hello variable\n",
        "print(hello)"
      ],
      "metadata": {
        "id": "saEW22cL0VdA"
      },
      "execution_count": null,
      "outputs": []
    },
    {
      "cell_type": "markdown",
      "source": [
        "Run this program to see the `print()` statement output.\n",
        "\n",
        "In this example, the `\"hello world\"` string of characters is assigned to a variable named `hello`.\n",
        "\n",
        "You can choose variable names, as long as they meet a few conditions...\n",
        "  * Don't include spaces\n",
        "  * No special characters\n",
        "  * Don't begin with a number\n",
        "  * Aren't words that are also commands in Python (for example, `print` is an instruction and can't be a variable name)\n",
        "\n"
      ],
      "metadata": {
        "id": "1V62-LRv0Xao"
      }
    },
    {
      "cell_type": "markdown",
      "source": [
        "# Functions\n",
        "\n",
        "In Python, **functions** are bits of code that you can \"call\": that is, by typing out that function, you can run the code it refers to. For example, in the cell above, `print()` is a function.\n",
        "\n",
        "Python has lots of [built-in functions](https://docs.python.org/3/library/functions.html). You can also gain access to many more by importing libraries. (We'll talk about those later.)\n",
        "\n",
        "The bits of information inside the parentheses are called (somewhat confusingly) **arguments**. These provide information necessary to tell the function what to do. For example, the `print()` function expects an **argument** to tell it what to say.\n",
        "\n",
        "When you specify an argument for a function, we often say you \"pass\" it an argument.\n",
        "\n",
        "The function below rounds a given number to the nearest integer. What happens when you change the argument?\n"
      ],
      "metadata": {
        "id": "ZUbS7HRws0ss"
      }
    },
    {
      "cell_type": "code",
      "source": [
        "round(245.689)"
      ],
      "metadata": {
        "id": "umauV43vYWzY"
      },
      "execution_count": null,
      "outputs": []
    },
    {
      "cell_type": "markdown",
      "source": [
        "# Data Types\n",
        "\n",
        "Python includes a number of different data types, which can be stored as variables."
      ],
      "metadata": {
        "id": "I18kE0ZMstdW"
      }
    },
    {
      "cell_type": "markdown",
      "source": [
        "## Numbers\n",
        "\n",
        "An integer is a whole number that does not include any decimal (or fractional) values. A float data type includes decimal (or fractional) values."
      ],
      "metadata": {
        "id": "J87jG5OS0alM"
      }
    },
    {
      "cell_type": "code",
      "source": [
        "# printing an integer\n",
        "print(3)\n",
        "\n",
        "# storing an integer to a variable\n",
        "number = 3\n",
        "\n",
        "# show number variable type\n",
        "type(number)\n",
        "\n",
        "# print number variable\n",
        "print(number)"
      ],
      "metadata": {
        "id": "e9sNYFAq0bWH"
      },
      "execution_count": null,
      "outputs": []
    },
    {
      "cell_type": "code",
      "source": [
        "# printing a decimal or float value\n",
        "print(3.5)\n",
        "\n",
        "# store float value to a variable\n",
        "number = 3.5\n",
        "\n",
        "# show number variable type\n",
        "print(type(number))\n",
        "\n",
        "# print number variable\n",
        "print(number)"
      ],
      "metadata": {
        "id": "Om5fxAQJ0cbP",
        "colab": {
          "base_uri": "https://localhost:8080/"
        },
        "outputId": "3ceb4f56-15f1-4b08-8d70-1828162459f3"
      },
      "execution_count": null,
      "outputs": [
        {
          "output_type": "stream",
          "name": "stdout",
          "text": [
            "3.5\n",
            "<class 'float'>\n",
            "3.5\n"
          ]
        }
      ]
    },
    {
      "cell_type": "markdown",
      "source": [
        "<blockquote>It may seem odd at first, but in Python, the \"equals sign\" here does not denote equality. Rather, it is an instruction telling Python to assign the value on its right into the variable on its left.</blockquote>\n",
        "\n",
        "\n",
        "## Strings\n",
        "\n",
        " A string is a sequence of characters (letters, numbers, symbols, etc.)\n",
        "\n",
        " We can assign strings to a variable, or store them as a variable.\n"
      ],
      "metadata": {
        "id": "wJlMF7E10dtn"
      }
    },
    {
      "cell_type": "code",
      "source": [
        "# assign string to variable\n",
        "s = \"Hello world!\"\n",
        "\n",
        "# show variable type\n",
        "print(type(s))\n",
        "\n",
        "# print variable\n",
        "print(s)"
      ],
      "metadata": {
        "id": "sVZ5tBpH0ex2",
        "outputId": "9420551d-97df-4f59-9d76-381af7893612",
        "colab": {
          "base_uri": "https://localhost:8080/"
        }
      },
      "execution_count": null,
      "outputs": [
        {
          "output_type": "stream",
          "name": "stdout",
          "text": [
            "<class 'str'>\n",
            "Hello world!\n"
          ]
        }
      ]
    },
    {
      "cell_type": "markdown",
      "source": [
        "# Operators\n",
        "\n",
        "Python includes a few different types of operators that can be used with values and variables.\n",
        "\n",
        "<table>\n",
        " <tr><td>Operator Type</td>\n",
        " <td>Example</td>\n",
        " <td>Description</td>\n",
        " </tr>\n",
        " <tr><td>Arithmetic operators</td>\n",
        " <td><code>+, -, *, /</code></td>\n",
        " <td>Used to perform arithmetic operations or calculations</td>\n",
        " </tr>\n",
        " <tr><td>Assignment operators</td>\n",
        " <td><code>=</code></td>\n",
        " <td>Used to assign values to variables</td>\n",
        " </tr>\n",
        " <tr><td>Comparison operators</td>\n",
        " <td><code>==, !=, >, <</code></td>\n",
        " <td>Used to compare two values</td>\n",
        " </tr>\n",
        " <tr><td>Logical operators</td>\n",
        " <td><code>and, or, not</code></td>\n",
        " <td>Used to combine conditional statements</td>\n",
        " </tr>\n",
        "</table>\n"
      ],
      "metadata": {
        "id": "M-fJV86J0mTP"
      }
    },
    {
      "cell_type": "markdown",
      "source": [
        "## Arithmetic Operators\n",
        "\n",
        "A few standard operators we can use in Python to perform arithmetic operations.\n",
        "- `+` (plus, sum)\n",
        "- `-` (minus, subtraction)\n",
        "- `*` (times, multiplication)\n",
        "- `//` (divide, integer division)\n",
        "- `/` (divide, float division)\n",
        "- `%` (modulo operator, used to return/retrieve remainder after division)\n",
        "- `**` (exponent)"
      ],
      "metadata": {
        "id": "McF2QJ5Y21ej"
      }
    },
    {
      "cell_type": "code",
      "source": [
        "# a few examples of arithmetic operators in action\n",
        "print(2+3)\n",
        "print(2-3)\n",
        "print(2*3)\n",
        "print(2/3)"
      ],
      "metadata": {
        "id": "Cv4BsU9d0nMq"
      },
      "execution_count": null,
      "outputs": []
    },
    {
      "cell_type": "markdown",
      "source": [
        "## Comparison Operators\n",
        "\n",
        "Python's comparison operators will return a value of `TRUE` or `FALSE` based on whether the comparison is true or false.\n",
        "\n",
        "<table>\n",
        " <tr><td>Operator</td>\n",
        " <td>Name</td>\n",
        " <td>Example</td>\n",
        " </tr>\n",
        " <tr><td><code>==</code></td>\n",
        " <td>Equal</td>\n",
        " <td><code>x == y</code></td>\n",
        " </tr>\n",
        " <tr><td><code>!=</code></td>\n",
        " <td>Not equal</td>\n",
        " <td><code>x != y</code></td>\n",
        " </tr>\n",
        " <tr><td><code>></code></td>\n",
        " <td>Greater than</td>\n",
        " <td><code>x > y</code</td>\n",
        "  </tr>\n",
        "  <tr><td><code><</code></td>\n",
        "   <td>Less than</td>\n",
        "   <td><code>x < y</code</td>\n",
        "  </tr>\n",
        "  <tr><td><code>>=</code></td>\n",
        "   <td>Greater than or equal to</td>\n",
        "   <td><code>x >= y</code></td>\n",
        "  </tr>\n",
        "  <tr><td><code><=</code></td>\n",
        "   <td>Less than or equal to</td>\n",
        "   <td><code>x <= y</code></td>\n",
        "  </tr>\n",
        "  </table>\n",
        "  \n",
        "These comparison operators compare two values and return `True` or `False`.\n",
        "\n",
        "A few examples of comparison operators in Python:"
      ],
      "metadata": {
        "id": "KI-Zz1qp0pYo"
      }
    },
    {
      "cell_type": "code",
      "source": [
        "# assign integer to variable\n",
        "x=4\n",
        "\n",
        "# show operator type\n",
        "print(type(x == 4))\n",
        "\n",
        "# output true/false based on comparison statement\n",
        "print(x == 4)"
      ],
      "metadata": {
        "id": "YlTU4sxJ0que"
      },
      "execution_count": null,
      "outputs": []
    },
    {
      "cell_type": "code",
      "source": [
        "# in some cases, operators can be chained or combined\n",
        "\n",
        "# will output true because comparison is true\n",
        "print(1 < 2 < 3)\n",
        "\n",
        "# will output false because comparison is false\n",
        "print(10 < 2 < 3)"
      ],
      "metadata": {
        "id": "M429zXzt0sWx"
      },
      "execution_count": null,
      "outputs": []
    },
    {
      "cell_type": "code",
      "source": [
        "# assigning integer values to variables\n",
        "x = 3\n",
        "y = 18\n",
        "z = 10\n",
        "\n",
        "# comparing variables (will return true/false based on whether the comparison is true)\n",
        "print (x < y < z)"
      ],
      "metadata": {
        "id": "_4QLK8FVAA-P"
      },
      "execution_count": null,
      "outputs": []
    },
    {
      "cell_type": "markdown",
      "source": [
        "## Logical Operators\n",
        "\n",
        "We can also combine comparison operators using Python's logical operators.\n",
        "\n",
        "<table>\n",
        " <tr><td>Operator</td>\n",
        " <td>Description</td>\n",
        " <td>Example</td>\n",
        " </tr>\n",
        " <tr><td><code>and</code></td>\n",
        " <td>Returns <code>True</code> if both statements are true</td>\n",
        " <td><code> x < 5 and x < 10</code></td>\n",
        " </tr>\n",
        " <tr><td><code>or</code></td>\n",
        " <td>Returns <code>True</code> if one of the statements is true</td>\n",
        " <td><code>x < 5 or x < 4</code></td>\n",
        " </tr>\n",
        " <tr><td><code>not</code></td>\n",
        " <td>Reverses the result; returns <code>False</code> if the result is <code>True</code></td>\n",
        " <td><code>not(x < 5 and X < 10)</code></td>\n",
        " </tr>\n",
        " </table"
      ],
      "metadata": {
        "id": "7p1RAMge0txg"
      }
    },
    {
      "cell_type": "markdown",
      "source": [
        "\n",
        "# `if, else, elif` statements\n",
        "\n",
        "We can use conditional statements to change the behavior of a program based on whether specific conditions are or are not met.\n",
        "\n",
        "To put this another way, conditional statements check boolean expressions (i.e. conditions), and change the behavior of the program accordingly.\n"
      ],
      "metadata": {
        "id": "bosp9cvH1leR"
      }
    },
    {
      "cell_type": "markdown",
      "source": [
        "## `if` Statements\n",
        "\n",
        "`if` statements use the `if` keyword to test if a condition is true.\n",
        "\n",
        "`if` statements are conditional, meaning that there is a test to determine if a statement is true or false, and then the computer takes some defined action.\n",
        "\n",
        "The basic syntax for an `if` statement:\n",
        "\n",
        "```Python\n",
        "if condition:\n",
        " statement(s)\n",
        "```\n",
        "\n",
        "The `if` statement tests if a particular condition is true. And if so, executes the command nested under the initial `if` statement.\n",
        "\n",
        "To illustrate that another way:\n",
        "\n",
        "```Python\n",
        "if this condition is true:\n",
        " then do this thing\n",
        "```\n",
        "\n",
        "couple things to note about this syntax:\n",
        "- A colon always follows the first line of an `if` statement\n",
        "- The code that will run if the statement is true is **nested** or intented beneath the `if` keyword\n",
        "\n",
        "For example, let's say we have a Python program where the variable `n` equals `0`.\n",
        "\n",
        "We want to write a program that, if `n` equals `0`, prints the message `n is zero`.\n",
        "\n",
        "We can do that using an `if` statement."
      ],
      "metadata": {
        "id": "HABSSwH51uhk"
      }
    },
    {
      "cell_type": "code",
      "source": [
        "n = 0\n",
        "\n",
        "if n == 0:\n",
        " print(\"n is zero\")"
      ],
      "metadata": {
        "id": "zPswZO9g1v02"
      },
      "execution_count": null,
      "outputs": []
    },
    {
      "cell_type": "markdown",
      "source": [
        "## `if-else` Statements\n",
        "\n",
        "Suppose we want to print one message when the condition (`number > 0`) is true, and a different message when the condition is false.\n",
        "\n",
        "We can do that by using an `else` clause along with an `if` keyword.\n",
        "\n",
        "The basic syntax for `if-else`:\n",
        "\n",
        "```Python\n",
        "if condition:\n",
        " statement(s)\n",
        "else:\n",
        " statement(s)\n",
        "```\n",
        "\n",
        "The statement indented beneath the `if` keyword will only run when the `if` condition is true.\n",
        "\n",
        "In an `if-else` statement, the statement indented beneath `else` will only run if the `if` condition is not true (or false).\n",
        "\n",
        "An example that illustrates this logic:"
      ],
      "metadata": {
        "id": "8tlfj0F61yFf"
      }
    },
    {
      "cell_type": "code",
      "source": [
        "# ask user to enter a number\n",
        "number = int(input(\"Enter a number: \"))\n",
        "\n",
        "# test if number is greater than zero\n",
        "if number > (0):\n",
        "  print (\"That number is positive.\")\n",
        "\n",
        "# if number is not greater than zero\n",
        "else:\n",
        "  print (\"Definitely NOT positive.\")\n",
        "\n",
        "# message that prints at end of program\n",
        "print (\"This message prints every time.\")"
      ],
      "metadata": {
        "id": "2CFofPKQ1zlo"
      },
      "execution_count": null,
      "outputs": []
    },
    {
      "cell_type": "markdown",
      "source": [
        "## `elif` statements\n",
        "\n",
        "We can also use the `elif` keyword along with the `if` keyword to introduce a new condition.\n",
        "\n",
        "Python will test the `elif` condition if previous conditions are not true.\n"
      ],
      "metadata": {
        "id": "qiw8vYxv109L"
      }
    },
    {
      "cell_type": "code",
      "source": [
        "# elif statement example\n",
        "\n",
        "# declares x variable\n",
        "x = 1\n",
        "\n",
        "# block of code that runs if x is less than 0\n",
        "if x < 0:\n",
        " print(\"x is less than 0\")\n",
        "\n",
        "# block of code that runs if x equals zero\n",
        "elif x == 0:\n",
        " print(\"x is equal to 0\")\n",
        "\n",
        "# block of code that runs if x is greater than 0\n",
        "else:\n",
        " print(\"x is greater than 0\")"
      ],
      "metadata": {
        "id": "IJDXsmU511-_"
      },
      "execution_count": null,
      "outputs": []
    },
    {
      "cell_type": "markdown",
      "source": [
        "# Loops\n",
        "\n",
        "Loop statements are a type of conditional statement that rely on the underlying logic of conditional execution.\n",
        "\n",
        "In Python, loops repeatedly execute a series of tasks.\n",
        "- Key term: *loop(s), looping*\n",
        "\n",
        "Each time through the body of a loop is called an iteration.\n",
        "- Key term: *iteration*\n",
        "\n",
        "An iteration can involve things like iterating through items in a list or testing if specific conditions are met, and then doing “something” as the result or endpoint for the loop."
      ],
      "metadata": {
        "id": "vCvPeMHS137F"
      }
    },
    {
      "cell_type": "markdown",
      "source": [
        "## `for` Loops\n",
        "\n",
        "`for` loops let us iterate through a definite set of objects.\n",
        "\n",
        "In each iteration through the `for` loop, Python will:\n",
        "- Extract one element from the dataset\n",
        "- Execute the body of the `for` loop using the item bound to the element\n",
        "- Go back to the first step\n",
        "- Keep iterating through the loop until reaching the end of the dataset\n",
        "\n",
        "The basic syntax in a `for` loop:\n",
        "\n",
        "```Python\n",
        "for item in dataset:\n",
        " statement(s)\n",
        "```\n",
        "\n",
        "In this syntax, `item` is a placeholder for each element in `dataset`.\n",
        "\n",
        "You can replace `item` with another word or letter character.\n",
        "\n",
        "```Python\n",
        "for i in dataset\n",
        "```\n",
        "\n",
        "In this syntax, `dataset` stands for the list of items we want Python to iterate over.\n",
        "\n",
        "That list of items could be a list variable, a list of numbers, a string of characters, etc.\n"
      ],
      "metadata": {
        "id": "Tta876IT17cD"
      }
    },
    {
      "cell_type": "markdown",
      "source": [
        "### `for` Loops and Lists of Numbers\n",
        "\n",
        "Let's say we have a list of numbers, and we want Python to iterate through each number in the list and print the number."
      ],
      "metadata": {
        "id": "yBO5y8mj18iP"
      }
    },
    {
      "cell_type": "code",
      "source": [
        "for i in [0, 1, 2, 3]:\n",
        " print(i)"
      ],
      "metadata": {
        "id": "v5VBU3fP19Q4"
      },
      "execution_count": null,
      "outputs": []
    },
    {
      "cell_type": "markdown",
      "source": [
        "Alternatively, we could create a variable for our list of numbers.\n"
      ],
      "metadata": {
        "id": "26vKd5jx1-GD"
      }
    },
    {
      "cell_type": "code",
      "source": [
        "# create list of numbers\n",
        "number_list = [0, 1, 2, 3]\n",
        "\n",
        "# for loop\n",
        "for i in number_list:\n",
        " print(i)"
      ],
      "metadata": {
        "id": "4XmjBx0B1-8w"
      },
      "execution_count": null,
      "outputs": []
    },
    {
      "cell_type": "markdown",
      "source": [
        "The loop command steps through the list one value at a time.\n",
        "\n",
        "The loop continues until it reaches the end of the list.\n",
        "\n",
        "### `for` Loops and Strings\n",
        "\n",
        "We can also use a `for` loop to iterate over a list of strings.\n",
        "\n",
        "Let's say we have a list of pepper types."
      ],
      "metadata": {
        "id": "UqjOoulS2AAd"
      }
    },
    {
      "cell_type": "code",
      "source": [
        "peppers = [\"bell\", \"poblano\", \"jalapeno\", \"bananas\", \"chile\", \"cayenne\"]\n"
      ],
      "metadata": {
        "id": "T7MXX2Qa2A1o"
      },
      "execution_count": null,
      "outputs": []
    },
    {
      "cell_type": "markdown",
      "source": [
        "112. We can use a `for` loop to iterate over each string in the list.\n"
      ],
      "metadata": {
        "id": "vbLz2jjr2Bfb"
      }
    },
    {
      "cell_type": "code",
      "source": [
        "peppers = [\"bell\", \"poblano\", \"jalapeno\", \"banana\", \"chile\", \"cayenne\"]\n",
        "\n",
        "for x in peppers:\n",
        " print(x)"
      ],
      "metadata": {
        "id": "yIPGKWSE2C1O"
      },
      "execution_count": null,
      "outputs": []
    },
    {
      "cell_type": "markdown",
      "source": [
        "We can also use a `for` loop to iterate through characters in a single string.\n",
        "\n",
        "Let's say we want to iterate over the characters in the string `elements`."
      ],
      "metadata": {
        "id": "lN2-N-lm2EVD"
      }
    },
    {
      "cell_type": "code",
      "source": [
        "for x in 'elements':\n",
        " print(x)"
      ],
      "metadata": {
        "id": "HdWmP6L62FG4"
      },
      "execution_count": null,
      "outputs": []
    },
    {
      "cell_type": "code",
      "source": [
        "# another example of iterating over characters in a string\n",
        "\n",
        "string = 'elements'\n",
        "\n",
        "for x in string:\n",
        " print(x)"
      ],
      "metadata": {
        "id": "LbN0oE5d2GH2"
      },
      "execution_count": null,
      "outputs": []
    },
    {
      "cell_type": "markdown",
      "source": [
        "Let's start combining `for` loops with some the other concepts we've covered.\n"
      ],
      "metadata": {
        "id": "kTTwjP592G7d"
      }
    },
    {
      "cell_type": "code",
      "source": [
        "#loops through a list of the members of the House Stark.\n",
        "\n",
        "characters = ['Arya', ' Benjen', 'Bran', 'Catelyn', 'Eddard', 'Rickon', 'Robb', 'Sansa']\n",
        "\n",
        "for character in characters:\n",
        "  print(character.title() + \"Stark\")"
      ],
      "metadata": {
        "id": "izyN_pO82If8"
      },
      "execution_count": null,
      "outputs": []
    },
    {
      "cell_type": "markdown",
      "source": [
        "<blockquote>Note the use of the plural for the name of the list and the singular for the individual item is not required. We are just declaring variables here. We can use anything to name the individual items (e.g. for person in characters). All this does is set a new variable for the individual item. Standard convention is to use the plural and singular terms so that the person reading the code can interpret what it is doing.</blockquote>\n",
        "\n",
        "Remember the loop command steps through the list one value at a time. The loop continues until it reaches the end of the list.\n",
        "\n",
        "In this case, for each item in the list called `“characters”` the program prints the value of each `“character”` in the list concatenated with the string `\" Stark”`.\n",
        "\n",
        "This produces the output:\n",
        "```\n",
        "Arya Stark\n",
        "Benjen Stark\n",
        "Bran Stark\n",
        "Catelyn Stark\n",
        "Eddard Stark\n",
        "Rickon Stark\n",
        "Robb Stark\n",
        "Sansa Stark\n",
        "```\n",
        "\n"
      ],
      "metadata": {
        "id": "eq8ouw6t2JQp"
      }
    },
    {
      "cell_type": "markdown",
      "source": [
        "If you're done early, try [this notebook](https://colab.research.google.com/github/tensorflow/examples/blob/master/courses/udacity_intro_to_tensorflow_for_deep_learning/l01c01_introduction_to_colab_and_python.ipynb)!"
      ],
      "metadata": {
        "id": "OkEQQ6VvIeBf"
      }
    }
  ]
}